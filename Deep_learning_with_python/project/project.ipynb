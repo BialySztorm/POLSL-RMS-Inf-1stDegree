{
 "cells": [
  {
   "cell_type": "markdown",
   "id": "6f99ce32-7d1b-448c-a4d9-52dc1894a424",
   "metadata": {},
   "source": [
    "# Section 1: Imports"
   ]
  },
  {
   "cell_type": "code",
   "execution_count": null,
   "id": "db46752b-c086-49c0-92fa-f8aae40bfee9",
   "metadata": {},
   "outputs": [],
   "source": [
    "import pandas as pd\n",
    "import numpy as np\n",
    "import glob\n",
    "import os\n",
    "os.environ['TF_CPP_MIN_LOG_LEVEL'] = '3'  # 0 = all logs, 1 = INFO removed, 2 = INFO+WARNING, 3 = all (incl. ERROR)\n",
    "\n",
    "from sklearn.model_selection import KFold\n",
    "from sklearn.preprocessing import StandardScaler\n",
    "from sklearn.metrics import mean_squared_error\n",
    "import tensorflow as tf\n",
    "from tensorflow.keras.models import Sequential\n",
    "from tensorflow.keras.layers import Dense, Dropout, Input\n",
    "import matplotlib.pyplot as plt"
   ]
  },
  {
   "cell_type": "markdown",
   "id": "fe598415-11c3-42b3-8f8b-724f5187e138",
   "metadata": {},
   "source": [
    "# Section 2: Load and Label Data"
   ]
  },
  {
   "cell_type": "code",
   "execution_count": null,
   "id": "2fafc169-eff0-4705-8129-197853e1965f",
   "metadata": {},
   "outputs": [],
   "source": [
    "# Define m values for each network\n",
    "m_values = {'Ex_1': 10, 'Ex_2': 21, 'Ex_3': 30, 'Ex_4': 20}\n",
    "\n",
    "# Load all CSVs from local (NC=32)\n",
    "dfs = []\n",
    "for i in range(1, 5):\n",
    "    df = pd.read_csv(f'Ex_{i}.csv')  # adjust path if needed\n",
    "    df['m'] = m_values[f'Ex_{i}']\n",
    "    df['NC'] = 32\n",
    "    df['source'] = f'Ex_{i}'\n",
    "    df['R'] = df['tim_K2'] / df['tim_Lp']\n",
    "    df['p'] = df['#d-MPs'] if '#d-MPs' in df else df['p']\n",
    "    dfs.append(df[['m', 'p', 'n_LU', 'NC', 'R']])\n",
    "\n",
    "# Load parallel execution files (NC in {4, ..., 28})\n",
    "for i in range(1, 5):\n",
    "    df = pd.read_csv(f'par_Ex_{i}.csv')\n",
    "    df['m'] = m_values[f'Ex_{i}']\n",
    "    df['NC'] = df['#th'] if '#th' in df else 28  # fallback default or compute\n",
    "    df['R'] = df['tim_K'] / df['tim_Lp']\n",
    "    dfs.append(df[['m', 'p', 'n_LU', 'NC', 'R']])\n",
    "\n",
    "# Load cloud execution files (NC = 96, 192)\n",
    "for tag in ['ext', 'Ext']:\n",
    "    nc = 96 if tag == 'ext' else 192\n",
    "    for i in range(1, 5):\n",
    "        df = pd.read_csv(f'{tag}_Ex_{i}.csv')\n",
    "        df['m'] = m_values[f'Ex_{i}']\n",
    "        df['NC'] = nc\n",
    "        df['R'] = df['tim_K2'] / df['tim_Lp']\n",
    "        df['p'] = df['#d-MPs'] if '#d-MPs' in df else df['p']\n",
    "        dfs.append(df[['m', 'p', 'n_LU', 'NC', 'R']])\n",
    "\n",
    "# Combine all\n",
    "data = pd.concat(dfs, ignore_index=True)\n",
    "data.dropna(inplace=True)\n",
    "data = data[data['p'] > 5]  # Filter based on p threshold"
   ]
  },
  {
   "cell_type": "markdown",
   "id": "68a78332-3ab0-4c96-820b-a1753b7d5018",
   "metadata": {},
   "source": [
    "# Section 3: Normalize Features"
   ]
  },
  {
   "cell_type": "code",
   "execution_count": null,
   "id": "8772f182-f6a5-4aae-9deb-7853637261a1",
   "metadata": {},
   "outputs": [],
   "source": [
    "X = data[['m', 'p', 'n_LU', 'NC']]\n",
    "y = data['R'].values\n",
    "\n",
    "scaler = StandardScaler()\n",
    "X_scaled = scaler.fit_transform(X)"
   ]
  },
  {
   "cell_type": "markdown",
   "id": "04afd049-92ed-4c7e-97ed-375435c7fc87",
   "metadata": {},
   "source": [
    "# Section 4: Define Keras Model"
   ]
  },
  {
   "cell_type": "code",
   "execution_count": null,
   "id": "f1e2ef5e-1433-401f-8c1e-ecb936be5961",
   "metadata": {},
   "outputs": [],
   "source": [
    "def build_model(input_dim):\n",
    "    model = Sequential([\n",
    "        Input(shape=(input_dim,)),\n",
    "        Dense(64, activation='relu'),\n",
    "        Dropout(0.2),\n",
    "        Dense(32, activation='relu'),\n",
    "        Dense(1)\n",
    "    ])\n",
    "    model.compile(optimizer='adam', loss='mse')\n",
    "    return model"
   ]
  },
  {
   "cell_type": "markdown",
   "id": "84a4001e-069b-4066-8e55-211b8ba4481d",
   "metadata": {},
   "source": [
    "# Section 5: K-Fold Training"
   ]
  },
  {
   "cell_type": "code",
   "execution_count": null,
   "id": "a759c2aa-6f82-4eb0-8da8-79b9b2e28276",
   "metadata": {},
   "outputs": [],
   "source": [
    "\n",
    "kf = KFold(n_splits=5, shuffle=True, random_state=42)\n",
    "fold = 1\n",
    "rmse_scores = []\n",
    "\n",
    "for train_idx, val_idx in kf.split(X_scaled):\n",
    "    X_train, X_val = X_scaled[train_idx], X_scaled[val_idx]\n",
    "    y_train, y_val = y[train_idx], y[val_idx]\n",
    "\n",
    "    model = build_model(X_train.shape[1])\n",
    "    model.fit(X_train, y_train, epochs=50, batch_size=16, verbose=0)\n",
    "\n",
    "    preds = model.predict(X_val).flatten()\n",
    "    rmse = np.sqrt(mean_squared_error(y_val, preds))\n",
    "    rmse_scores.append(rmse)\n",
    "    print(f\"Fold {fold} RMSE: {rmse:.4f}\")\n",
    "    fold += 1\n",
    "\n",
    "print(f\"Average RMSE: {np.mean(rmse_scores):.4f}\")"
   ]
  },
  {
   "cell_type": "markdown",
   "id": "8942df2f-47fc-49b2-ba44-c7484fc417f1",
   "metadata": {},
   "source": [
    "# Section 6: Predict for new NC values"
   ]
  },
  {
   "cell_type": "code",
   "execution_count": null,
   "id": "9e720b72-cd0a-4331-a9d2-6b077b81b245",
   "metadata": {},
   "outputs": [],
   "source": [
    "new_NC_values = [64, 128, 256, 512, 1024]\n",
    "unique_rows = data[['m', 'p', 'n_LU']].drop_duplicates()\n",
    "\n",
    "predictions = []\n",
    "for _, row in unique_rows.iterrows():\n",
    "    for nc in new_NC_values:\n",
    "        sample = pd.DataFrame([[row['m'], row['p'], row['n_LU'], nc]], columns=['m', 'p', 'n_LU', 'NC'])\n",
    "        sample_scaled = scaler.transform(sample)\n",
    "        R_pred = model.predict(sample_scaled, verbose=0)[0][0]\n",
    "        predictions.append({'m': row['m'], 'p': row['p'], 'nLU': row['n_LU'], 'NC': nc, 'Predicted_R': R_pred})\n",
    "\n",
    "pred_df = pd.DataFrame(predictions)\n",
    "pred_df.head()"
   ]
  },
  {
   "cell_type": "code",
   "execution_count": null,
   "id": "0e4bd664-50ba-45ee-8a36-e05f3025c2b3",
   "metadata": {},
   "outputs": [],
   "source": []
  }
 ],
 "metadata": {
  "kernelspec": {
   "display_name": "Python 3 (ipykernel)",
   "language": "python",
   "name": "python3"
  },
  "language_info": {
   "codemirror_mode": {
    "name": "ipython",
    "version": 3
   },
   "file_extension": ".py",
   "mimetype": "text/x-python",
   "name": "python",
   "nbconvert_exporter": "python",
   "pygments_lexer": "ipython3",
   "version": "3.12.7"
  }
 },
 "nbformat": 4,
 "nbformat_minor": 5
}
