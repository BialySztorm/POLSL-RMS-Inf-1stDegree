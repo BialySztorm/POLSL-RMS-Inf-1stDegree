{
 "cells": [
  {
   "cell_type": "markdown",
   "id": "5e1cfddb-a00e-4615-a161-cf67ecb8d2fb",
   "metadata": {},
   "source": [
    "# Laboratory 3"
   ]
  },
  {
   "cell_type": "markdown",
   "id": "bc9d2639-fa9a-4545-ae15-ff542f982af5",
   "metadata": {},
   "source": [
    "## Task\n",
    "Find a model with the greatest generalization power for the MNIST dataset. Start with the logistic regression model on MNIST from the lecture. To evaluate models use 3-fold and 5-fold validation. In order to create new models try:\n",
    "- various learning rates;\n",
    "- to increase models capacity by adding more layers or using layers with more parameters;\n",
    "- to regularize models by adding weight regularization (L1, L2, and L1_L2) as well as adding dropout."
   ]
  },
  {
   "cell_type": "code",
   "execution_count": null,
   "id": "0ef00bac-6b30-4bbe-ac20-d9e5335f8f91",
   "metadata": {},
   "outputs": [],
   "source": [
    "import os\n",
    "import tensorflow as tf\n",
    "\n",
    "# Suppress TensorFlow logging\n",
    "os.environ['TF_CPP_MIN_LOG_LEVEL'] = '2'  # 0=all, 1=info, 2=warning, 3=error\n",
    "\n",
    "# Now your TensorFlow imports and code\n",
    "print(\"TensorFlow version:\", tf.__version__)\n",
    "\n",
    "import numpy as np\n",
    "import tensorflow as tf\n",
    "from tensorflow import keras\n",
    "from tensorflow.keras import layers, regularizers\n",
    "from sklearn.model_selection import KFold\n",
    "from sklearn.metrics import accuracy_score"
   ]
  },
  {
   "cell_type": "code",
   "execution_count": null,
   "id": "fd1b3c75-49c4-4202-8833-8728be9f5a8d",
   "metadata": {},
   "outputs": [],
   "source": [
    "(x_train, y_train), _ = keras.datasets.mnist.load_data()\n",
    "x_train = x_train.reshape((-1, 28*28)).astype(\"float32\") / 255.0\n",
    "y_train = keras.utils.to_categorical(y_train, 10)"
   ]
  },
  {
   "cell_type": "code",
   "execution_count": null,
   "id": "76bd1013-a9a0-4af0-8453-f4fa7a711925",
   "metadata": {},
   "outputs": [],
   "source": [
    "def create_model(learning_rate=0.01, layers_config=[10], regularizer=None, dropout_rate=0.0):\n",
    "    model = keras.Sequential()\n",
    "    for units in layers_config[:-1]:\n",
    "        model.add(layers.Dense(units, activation='relu', kernel_regularizer=regularizer))\n",
    "        if dropout_rate > 0:\n",
    "            model.add(layers.Dropout(dropout_rate))\n",
    "    model.add(layers.Dense(layers_config[-1], activation='softmax', kernel_regularizer=regularizer))\n",
    "    model.compile(optimizer=keras.optimizers.Adam(learning_rate=learning_rate),\n",
    "                  loss='categorical_crossentropy',\n",
    "                  metrics=['accuracy'])\n",
    "    return model"
   ]
  },
  {
   "cell_type": "code",
   "execution_count": null,
   "id": "5922e1fc-436c-4116-8c44-1ac586dd68ca",
   "metadata": {},
   "outputs": [],
   "source": [
    "def cross_validate_model(model_fn, k=5, epochs=10, batch_size=128):\n",
    "    kf = KFold(n_splits=k, shuffle=True, random_state=42)\n",
    "    acc_scores = []\n",
    "    for train_idx, val_idx in kf.split(x_train):\n",
    "        x_tr, x_val = x_train[train_idx], x_train[val_idx]\n",
    "        y_tr, y_val = y_train[train_idx], y_train[val_idx]\n",
    "        model = model_fn()\n",
    "        model.fit(x_tr, y_tr, epochs=epochs, batch_size=batch_size, verbose=0)\n",
    "        val_pred = np.argmax(model.predict(x_val), axis=1)\n",
    "        val_true = np.argmax(y_val, axis=1)\n",
    "        acc_scores.append(accuracy_score(val_true, val_pred))\n",
    "    return np.mean(acc_scores), np.std(acc_scores)"
   ]
  },
  {
   "cell_type": "code",
   "execution_count": null,
   "id": "49bf800d-1fc4-4d15-953a-5861acf5b99f",
   "metadata": {},
   "outputs": [],
   "source": [
    "print(\"== Bazowy model: regresja logistyczna ==\")\n",
    "baseline_fn = lambda: create_model(layers_config=[10], learning_rate=0.01)\n",
    "mean_acc_3, std_acc_3 = cross_validate_model(baseline_fn, k=3)\n",
    "mean_acc_5, std_acc_5 = cross_validate_model(baseline_fn, k=5)\n",
    "print(f\"3-fold: {mean_acc_3:.4f} ± {std_acc_3:.4f}, 5-fold: {mean_acc_5:.4f} ± {std_acc_5:.4f}\")\n"
   ]
  },
  {
   "cell_type": "code",
   "execution_count": null,
   "id": "bb16c1b4-5e20-4eba-b68d-afa2253d368a",
   "metadata": {},
   "outputs": [],
   "source": [
    "print(\"\\n== Różne learning rate ==\")\n",
    "lrs = [0.001, 0.01, 0.1]\n",
    "for lr in lrs:\n",
    "    model_fn = lambda: create_model(layers_config=[10], learning_rate=lr)\n",
    "    acc, _ = cross_validate_model(model_fn, k=3)\n",
    "    print(f\"Learning rate {lr}: Accuracy = {acc:.4f}\")"
   ]
  },
  {
   "cell_type": "code",
   "execution_count": null,
   "id": "c2a0b55b-2df0-4068-b273-e08f0803c477",
   "metadata": {},
   "outputs": [],
   "source": [
    "print(\"\\n== Większe modele (więcej warstw) ==\")\n",
    "configs = [[128, 10], [256, 128, 10], [512, 256, 10]]\n",
    "for config in configs:\n",
    "    model_fn = lambda: create_model(layers_config=config)\n",
    "    acc, _ = cross_validate_model(model_fn, k=3)\n",
    "    print(f\"Architektura {config}: Accuracy = {acc:.4f}\")"
   ]
  },
  {
   "cell_type": "code",
   "execution_count": null,
   "id": "35574593-a933-4e44-a2e9-235bb01c7219",
   "metadata": {},
   "outputs": [],
   "source": [
    "print(\"\\n== Regularizacja wag ==\")\n",
    "regs = {\n",
    "    'L1': regularizers.l1(0.001),\n",
    "    'L2': regularizers.l2(0.001),\n",
    "    'L1_L2': regularizers.l1_l2(l1=0.001, l2=0.001)\n",
    "}\n",
    "for name, reg in regs.items():\n",
    "    model_fn = lambda: create_model(layers_config=[128, 10], regularizer=reg)\n",
    "    acc, _ = cross_validate_model(model_fn, k=3)\n",
    "    print(f\"Regularizer {name}: Accuracy = {acc:.4f}\")"
   ]
  },
  {
   "cell_type": "code",
   "execution_count": null,
   "id": "32a506e0-bfb1-45b4-8c7d-d6d7116f7755",
   "metadata": {},
   "outputs": [],
   "source": [
    "print(\"\\n== Dropout ==\")\n",
    "for rate in [0.2, 0.5]:\n",
    "    model_fn = lambda: create_model(layers_config=[128, 10], dropout_rate=rate)\n",
    "    acc, _ = cross_validate_model(model_fn, k=3)\n",
    "    print(f\"Dropout rate {rate}: Accuracy = {acc:.4f}\")"
   ]
  }
 ],
 "metadata": {
  "kernelspec": {
   "display_name": "anaconda-ai-2024.04-py310",
   "language": "python",
   "name": "conda-env-anaconda-ai-2024.04-py310-py"
  },
  "language_info": {
   "codemirror_mode": {
    "name": "ipython",
    "version": 3
   },
   "file_extension": ".py",
   "mimetype": "text/x-python",
   "name": "python",
   "nbconvert_exporter": "python",
   "pygments_lexer": "ipython3",
   "version": "3.10.13"
  }
 },
 "nbformat": 4,
 "nbformat_minor": 5
}
