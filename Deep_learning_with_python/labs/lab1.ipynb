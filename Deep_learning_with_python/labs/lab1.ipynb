{
 "cells": [
  {
   "metadata": {},
   "cell_type": "markdown",
   "source": "# Laboratory 1",
   "id": "66ac69656f8766f1"
  },
  {
   "metadata": {},
   "cell_type": "markdown",
   "source": [
    "## Task 1.\n",
    "Import necessary libraries: `from tensorflow import keras` and  `\n",
    "from tensorflow.keras import layers.\n",
    "\n",
    "`\n",
    "Load `train_images`, `train_labels`, `test_images`, `test_labels` from data set `mnist` from `tensorflow.keras.datasets`. What are the shape and type of `train_images` and `test_images`?\n",
    "\n",
    "Preprocess the data by reshaping it into the shape the model expects and scaling it so that all values are in the [0, 1] interval:\n",
    "Change tensors `train_images` and `test_images` into rank-2 tensors of shape $(60000, 28*28)$, $(10000, 28*28)$, respectively. Change type of these tensors into `float32` and standardize them: divide them by the their maximum value."
   ],
   "id": "80dc62d6e2a85118"
  },
  {
   "metadata": {},
   "cell_type": "code",
   "source": [
    "import os\n",
    "os.environ['KMP_DUPLICATE_LIB_OK'] = 'TRUE'\n",
    "\n",
    "from tensorflow import keras\n",
    "from tensorflow.keras import layers"
   ],
   "id": "a48ae2e278c815b5",
   "outputs": [],
   "execution_count": null
  },
  {
   "metadata": {},
   "cell_type": "code",
   "source": [
    "(train_images, train_labels), (test_images, test_labels) = keras.datasets.mnist.load_data()\n",
    "print(train_images.shape, test_images.shape)\n",
    "print(train_images.dtype, test_images.dtype)"
   ],
   "id": "9bd821d2eaab6020",
   "outputs": [],
   "execution_count": null
  },
  {
   "metadata": {},
   "cell_type": "code",
   "source": [
    "train_images = train_images.reshape((60000, 28*28)).astype('float32') / 255\n",
    "test_images = test_images.reshape((10000, 28*28)).astype('float32') / 255"
   ],
   "id": "5b5a2d944cd0056f",
   "outputs": [],
   "execution_count": null
  },
  {
   "metadata": {},
   "cell_type": "markdown",
   "source": [
    "## Taks 2\n",
    "Using function `Sequential` from `Keras` create a model consisting of a sequence of two densely connected neural layers. The first layer should consists of 512 parameters and its activation function should be reLU. The second (and last) layer is to be a 10-way softmax classification layer, which means it will return an array of 10 probability scores (summing to 1). Each score will be the probability that the current digit image belongs to one of 10 digit classes."
   ],
   "id": "e69ff3d695d513c1"
  },
  {
   "metadata": {},
   "cell_type": "code",
   "source": [
    "model = keras.Sequential([\n",
    "    layers.Dense(512, activation='relu'),\n",
    "    layers.Dense(10, activation='softmax')\n",
    "])"
   ],
   "id": "6e6e815903f9c22",
   "outputs": [],
   "execution_count": null
  },
  {
   "metadata": {},
   "cell_type": "markdown",
   "source": [
    "## Task 3\n",
    "Compile the model using `rmsprop` algorithm as an optimizer, `sparse_categorical_crossentropy` as a loss function, and the `accuracy` (the fraction of the images that were correctly classified) as a metrics."
   ],
   "id": "75cd6c384b684057"
  },
  {
   "metadata": {},
   "cell_type": "code",
   "source": [
    "model.compile(optimizer='rmsprop',\n",
    "              loss='sparse_categorical_crossentropy',\n",
    "              metrics=['accuracy'])"
   ],
   "id": "78cf12cc517b9cec",
   "outputs": [],
   "execution_count": null
  },
  {
   "metadata": {},
   "cell_type": "markdown",
   "source": [
    "## Task 4\n",
    "Fit the model to its training data using 5 epochs and batch_size=128."
   ],
   "id": "d36a08e2b7285a4c"
  },
  {
   "metadata": {},
   "cell_type": "code",
   "source": "history = model.fit(train_images, train_labels, epochs=5, batch_size=128)",
   "id": "c3385809e2a99e57",
   "outputs": [],
   "execution_count": null
  },
  {
   "metadata": {},
   "cell_type": "markdown",
   "source": [
    "## Task 5\n",
    "Use the trained model to predict class probabilities for digits from `test_images` and for each digit compare the index with the greatest probability with apropriate element in `test_labels`. Find the first digit from  `test_images` for which label predicted by the model is different from the true label form `test_labels`. What is the true digit and its prediction? Plot this digit."
   ],
   "id": "7aaff4565a195658"
  },
  {
   "metadata": {},
   "cell_type": "code",
   "source": [
    "import numpy as np\n",
    "import matplotlib.pyplot as plt\n",
    "predictions = model.predict(test_images)\n",
    "predicted_labels = np.argmax(predictions, axis=1)\n",
    "true_labels = test_labels\n",
    "\n",
    "for i in range(len(true_labels)):\n",
    "    if predicted_labels[i] != true_labels[i]:\n",
    "        print('true:', true_labels[i], 'predicted:', predicted_labels[i])\n",
    "        print(i)\n",
    "        plt.imshow(test_images[i].reshape(28,28), cmap=plt.cm.binary)\n",
    "        plt.show()\n",
    "        break\n",
    "\n"
   ],
   "id": "a5eb631c5b3290dd",
   "outputs": [],
   "execution_count": null
  },
  {
   "metadata": {},
   "cell_type": "markdown",
   "source": [
    "## Task 6\n",
    "Evaluate the model on training and test data. Compare the test-set accuracy/loss with the training-set accuracy/loss."
   ],
   "id": "557999e5877adb2f"
  },
  {
   "metadata": {},
   "cell_type": "code",
   "source": [
    "train_loss, train_acc = model.evaluate(train_images, train_labels)\n",
    "test_loss, test_acc = model.evaluate(test_images, test_labels)\n",
    "print('train_acc:', train_acc, 'test_acc:', test_acc)\n",
    "print('train_loss:', train_loss, 'test_loss:', test_loss)"
   ],
   "id": "94871c7e79a3a803",
   "outputs": [],
   "execution_count": null
  },
  {
   "metadata": {},
   "cell_type": "markdown",
   "source": [
    "## Task 7\n",
    "Do tasks 4 and 6 using:\n",
    "- 100 epochs and batch_size=len(train_labels)\n",
    "- 1 epoch and batch_size=1."
   ],
   "id": "bb877611abb4fc90"
  },
  {
   "metadata": {},
   "cell_type": "code",
   "source": [
    "history = model.fit(train_images, train_labels, epochs=100, batch_size=len(train_labels))\n",
    "train_loss, train_acc = model.evaluate(train_images, train_labels)\n",
    "test_loss, test_acc = model.evaluate(test_images, test_labels)\n",
    "print('train_acc:', train_acc, 'test_acc:', test_acc)\n",
    "print('train_loss:', train_loss, 'test_loss:', test_loss)"
   ],
   "id": "f6231f0b3c3712a5",
   "outputs": [],
   "execution_count": null
  },
  {
   "metadata": {},
   "cell_type": "markdown",
   "source": [
    "## Task 8\n",
    "Create a model consisting of a sequence of three densely connected neural layers. The first two layers should consists of 256 parameters and their activation function should be reLU. The last layer is to be a 10-way softmax classification layer. Next, compile the model in the same way as in Task 3 and fit the model to its training data using 10 epochs and batch_size=64. Finally, evaluate the model on training and test data and compare the training-set/test-set accuracy with the training-set/test-set accuracy of the model from Task 2. What model has better accuracy for training-set and test-set?"
   ],
   "id": "55c436b7656af24f"
  },
  {
   "metadata": {},
   "cell_type": "code",
   "source": [
    "model = keras.Sequential([\n",
    "    layers.Dense(256, activation='relu'),\n",
    "    layers.Dense(256, activation='relu'),\n",
    "    layers.Dense(10, activation='softmax')\n",
    "])\n",
    "model.compile(optimizer='rmsprop',\n",
    "              loss='sparse_categorical_crossentropy',\n",
    "              metrics=['accuracy'])\n",
    "history = model.fit(train_images, train_labels, epochs=10, batch_size=64)\n",
    "train_loss, train_acc = model.evaluate(train_images, train_labels)\n",
    "test_loss, test_acc = model.evaluate(test_images, test_labels)\n",
    "print('train_acc:', train_acc, 'test_acc:', test_acc)\n",
    "print('train_loss:', train_loss, 'test_loss:', test_loss)"
   ],
   "id": "e1a067f475538956",
   "outputs": [],
   "execution_count": null
  },
  {
   "metadata": {},
   "cell_type": "markdown",
   "source": [
    "## Task 9\n",
    "Check, whether further increasing the number of layers influences the accuracy of a deep learning model. Experiment with various numbers of parameters, batch sizes, and numbers of epochs."
   ],
   "id": "c0e511841306825b"
  },
  {
   "metadata": {},
   "cell_type": "code",
   "source": [
    "model = keras.Sequential([\n",
    "    layers.Dense(256, activation='relu'),\n",
    "    layers.Dense(256, activation='relu'),\n",
    "    layers.Dense(256, activation='relu'),\n",
    "    layers.Dense(10, activation='softmax')\n",
    "])\n",
    "model.compile(optimizer='rmsprop',\n",
    "              loss='sparse_categorical_crossentropy',\n",
    "              metrics=['accuracy'])\n",
    "history = model.fit(train_images, train_labels, epochs=3, batch_size=64)\n",
    "train_loss, train_acc = model.evaluate(train_images, train_labels)\n",
    "test_loss, test_acc = model.evaluate(test_images, test_labels)\n",
    "print('train_acc:', train_acc, 'test_acc:', test_acc)\n",
    "print('train_loss:', train_loss, 'test_loss:', test_loss)"
   ],
   "id": "dd639a9832301879",
   "outputs": [],
   "execution_count": null
  }
 ],
 "metadata": {
  "kernelspec": {
   "display_name": "Python 3",
   "language": "python",
   "name": "python3"
  },
  "language_info": {
   "codemirror_mode": {
    "name": "ipython",
    "version": 2
   },
   "file_extension": ".py",
   "mimetype": "text/x-python",
   "name": "python",
   "nbconvert_exporter": "python",
   "pygments_lexer": "ipython2",
   "version": "2.7.6"
  }
 },
 "nbformat": 4,
 "nbformat_minor": 5
}
