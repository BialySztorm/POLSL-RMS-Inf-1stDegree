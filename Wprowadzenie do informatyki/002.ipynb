{
 "cells": [
  {
   "cell_type": "code",
   "execution_count": 254,
   "metadata": {},
   "outputs": [],
   "source": [
    "def decToOct (dec):\n",
    "    tab = dec.split('.')\n",
    "    octagonal = []\n",
    "    tab[0] = int(tab[0])\n",
    "    tab[1] = float(\"0.\"+(tab[1]))\n",
    "    while(tab[0]>=1):\n",
    "        octagonal.insert(0,tab[0]%8)\n",
    "        tab[0] = int(tab[0]/8)\n",
    "    octagonal.append('.')\n",
    "    i = 1\n",
    "    while(tab[1]>0):\n",
    "        # print(tab[1])\n",
    "        octagonal.append(str(int(tab[1]/(1/(8**i)))))\n",
    "        tab[1] -= float(int(tab[1]/(1/(8**i)))*1/(8**i))\n",
    "        i+=1\n",
    "        # print(tab[1])\n",
    "\n",
    "\n",
    "    return ''.join(str(e) for e in octagonal)\n",
    "\n"
   ]
  },
  {
   "cell_type": "code",
   "execution_count": 255,
   "metadata": {},
   "outputs": [],
   "source": [
    "def decToBin (dec):\n",
    "    tab = dec.split('.')\n",
    "    binary = []\n",
    "    tab[0] = int(tab[0])\n",
    "    tab[1] = float(\"0.\"+(tab[1]))\n",
    "    while(tab[0]>=1):\n",
    "        binary.insert(0,tab[0]%2)\n",
    "        tab[0] = int(tab[0]/2)\n",
    "    binary.append('.')\n",
    "    i = 1\n",
    "    while(tab[1]>0):\n",
    "        # print(tab[1])\n",
    "        binary.append(str(int(tab[1]/(1/(2**i)))))\n",
    "        tab[1] -= float(int(tab[1]/(1/(2**i)))*1/(2**i))\n",
    "        i+=1\n",
    "        # print(tab[1])\n",
    "\n",
    "\n",
    "    return ''.join(str(e) for e in binary)"
   ]
  },
  {
   "cell_type": "code",
   "execution_count": 256,
   "metadata": {},
   "outputs": [],
   "source": [
    "def decToHex (dec):\n",
    "    tab = dec.split('.')\n",
    "    hexagonal = []\n",
    "    tab[0] = int(tab[0])\n",
    "    tab[1] = float(\"0.\"+(tab[1]))\n",
    "    while(tab[0]>=1):\n",
    "        hexagonal.insert(0,letters[tab[0]%16])\n",
    "        tab[0] = int(tab[0]/16)\n",
    "    hexagonal.append('.')\n",
    "    i = 1\n",
    "    while(tab[1]>0):\n",
    "        # print(tab[1])\n",
    "        hexagonal.append(letters[int(tab[1]/(1/(16**i)))])\n",
    "        tab[1] -= float(int(tab[1]/(1/(16**i)))*1/(16**i))\n",
    "        i+=1\n",
    "        # print(tab[1])\n",
    "\n",
    "\n",
    "    return ''.join(str(e) for e in hexagonal)"
   ]
  },
  {
   "cell_type": "code",
   "execution_count": 253,
   "metadata": {},
   "outputs": [],
   "source": [
    "letters = {0:0,1:1,2:2,3:3,4:4,5:5,6:6,7:7,8:8,9:9,10:\"A\",11:\"B\",12:\"C\",13:\"D\",14:\"E\",15:\"F\"}"
   ]
  },
  {
   "cell_type": "code",
   "execution_count": 257,
   "metadata": {},
   "outputs": [],
   "source": [
    "def universalConverter(dec, base):\n",
    "    tab = dec.split('.')\n",
    "    result = []\n",
    "    tab[0] = int(tab[0])\n",
    "    tab[1] = float(\"0.\"+(tab[1]))\n",
    "    while(tab[0]>=1):\n",
    "        result.insert(0,letters[tab[0]%base])\n",
    "        tab[0] = int(tab[0]/base)\n",
    "    result.append('.')\n",
    "    i = 1\n",
    "    while(tab[1]>0):\n",
    "        # print(tab[1])\n",
    "        result.append(letters[int(tab[1]/(1/(base**i)))])\n",
    "        tab[1] -= float(int(tab[1]/(1/(16**i)))*1/(base**i))\n",
    "        i+=1\n",
    "        # print(tab[1])\n",
    "\n",
    "\n",
    "    return ''.join(str(e) for e in result)"
   ]
  },
  {
   "cell_type": "code",
   "execution_count": 258,
   "metadata": {},
   "outputs": [
    {
     "name": "stdout",
     "output_type": "stream",
     "text": [
      "Octagonal: 1173.5\n",
      "Binary: 1001111011.1\n",
      "Hexagonal: 27B.A3126E978D4FE\n"
     ]
    }
   ],
   "source": [
    "decNum = str(input(\"insert decimal number\"))\n",
    "\n",
    "\n",
    "# print(\"Octagonal: \"+decToOct(decNum))\n",
    "# print(\"Binary: \"+decToBin(decNum))\n",
    "# print(\"Hexagonal: \"+decToHex(decNum))\n",
    "\n",
    "print(\"Octagonal: \"+universalConverter(decNum, 8))\n",
    "print(\"Binary: \"+universalConverter(decNum, 2))\n",
    "print(\"Hexagonal: \"+universalConverter(decNum, 16))"
   ]
  }
 ],
 "metadata": {
  "kernelspec": {
   "display_name": "Python 3.10.0 64-bit",
   "language": "python",
   "name": "python3"
  },
  "language_info": {
   "codemirror_mode": {
    "name": "ipython",
    "version": 3
   },
   "file_extension": ".py",
   "mimetype": "text/x-python",
   "name": "python",
   "nbconvert_exporter": "python",
   "pygments_lexer": "ipython3",
   "version": "3.10.0"
  },
  "orig_nbformat": 4,
  "vscode": {
   "interpreter": {
    "hash": "369f2c481f4da34e4445cda3fffd2e751bd1c4d706f27375911949ba6bb62e1c"
   }
  }
 },
 "nbformat": 4,
 "nbformat_minor": 2
}
