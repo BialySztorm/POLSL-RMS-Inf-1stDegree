{
 "cells": [
  {
   "cell_type": "code",
   "execution_count": 2,
   "metadata": {},
   "outputs": [],
   "source": [
    "import random\n",
    "import time"
   ]
  },
  {
   "cell_type": "code",
   "execution_count": 3,
   "metadata": {},
   "outputs": [],
   "source": [
    "def nwd(a,b):\n",
    "    while(a != b):\n",
    "        if(a>b):\n",
    "            a -= b\n",
    "        else:\n",
    "            b -= a\n",
    "    return a\n",
    "    "
   ]
  },
  {
   "cell_type": "code",
   "execution_count": 4,
   "metadata": {},
   "outputs": [],
   "source": [
    "def fibonacci(len):\n",
    "    tab = []\n",
    "    for i in range (0, len):\n",
    "        if i <= 1:\n",
    "            tab.append(1)\n",
    "        else:\n",
    "            tab.append(tab[i-1]+tab[i-2])\n",
    "\n",
    "    return tab"
   ]
  },
  {
   "cell_type": "code",
   "execution_count": 5,
   "metadata": {},
   "outputs": [],
   "source": [
    "def minimum(tab):\n",
    "    tmp  = tab[0]\n",
    "    for i in tab:\n",
    "        if(i<tmp):\n",
    "            tmp = i\n",
    "\n",
    "    return tmp"
   ]
  },
  {
   "cell_type": "code",
   "execution_count": 6,
   "metadata": {},
   "outputs": [],
   "source": [
    "def bubble_sort(tab):\n",
    "    tmp = 0\n",
    "    n = len(tab)\n",
    "    while(n>1):\n",
    "        for i in range(0, n-1):\n",
    "            if(tab[i]>tab[i+1]):\n",
    "                tmp = tab[i]\n",
    "                tab[i] = tab[i+1]\n",
    "                tab[i+1] = tmp\n",
    "        n -=1\n",
    "    return tab"
   ]
  },
  {
   "cell_type": "code",
   "execution_count": 7,
   "metadata": {},
   "outputs": [],
   "source": [
    "def insertion_sort(tab):\n",
    "    tmp = 0\n",
    "\n",
    "    for i in range(1,len(tab)):\n",
    "        print(tab)\n",
    "        for j in range(i,-1, -1):\n",
    "            if j  == 0:\n",
    "                tmp = tab.pop(i)\n",
    "                tab.insert(0,tmp)\n",
    "            elif tab[i]> tab[j-1]:\n",
    "                tmp = tab.pop(i)\n",
    "                tab.insert(j,tmp)\n",
    "                break\n",
    "\n",
    "\n",
    "    return tab"
   ]
  },
  {
   "cell_type": "code",
   "execution_count": 8,
   "metadata": {},
   "outputs": [],
   "source": [
    "def generateTable(len,min,max):\n",
    "    tab = []\n",
    "    for i in range(0, len):\n",
    "        tab.append(random.randrange(min,max))\n",
    "    return tab"
   ]
  },
  {
   "cell_type": "code",
   "execution_count": 38,
   "metadata": {},
   "outputs": [],
   "source": [
    "\n",
    "begin = time.time()\n",
    "\n",
    "# print(nwd(random.randrange(100),random.randrange(100)))\n",
    "\n",
    "# print(fibonacci(1000))\n",
    "\n",
    "# print(minimum(generateTable(25,0,100)))\n",
    "\n",
    "# print(bubble_sort(generateTable(25,0,100)))\n",
    "\n",
    "# print(insertion_sort(generateTable(20,0,1000)))\n",
    "\n",
    "result = bubble_sort(generateTable(100000,0,100))\n",
    "\n",
    "end = time.time()\n",
    "\n",
    "print(\"Programowi zajęło: \", end-begin,  \"s\")\n"
   ]
  }
 ],
 "metadata": {
  "kernelspec": {
   "display_name": "Python 3.10.0 64-bit",
   "language": "python",
   "name": "python3"
  },
  "language_info": {
   "codemirror_mode": {
    "name": "ipython",
    "version": 3
   },
   "file_extension": ".py",
   "mimetype": "text/x-python",
   "name": "python",
   "nbconvert_exporter": "python",
   "pygments_lexer": "ipython3",
   "version": "3.10.0"
  },
  "orig_nbformat": 4,
  "vscode": {
   "interpreter": {
    "hash": "369f2c481f4da34e4445cda3fffd2e751bd1c4d706f27375911949ba6bb62e1c"
   }
  }
 },
 "nbformat": 4,
 "nbformat_minor": 2
}
