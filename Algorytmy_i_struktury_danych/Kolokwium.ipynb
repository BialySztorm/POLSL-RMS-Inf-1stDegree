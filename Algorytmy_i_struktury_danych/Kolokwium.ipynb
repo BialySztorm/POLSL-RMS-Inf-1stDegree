{
 "cells": [
  {
   "cell_type": "code",
   "execution_count": 33,
   "metadata": {},
   "outputs": [],
   "source": [
    "import random\n",
    "import time\n",
    "import heapq\n",
    "from collections import defaultdict"
   ]
  },
  {
   "cell_type": "code",
   "execution_count": 44,
   "metadata": {},
   "outputs": [],
   "source": [
    "def quicksort(arr):\n",
    "    if len(arr) <= 1:\n",
    "        return arr\n",
    "    else:\n",
    "        pivot_index = get_median_of_three(arr)\n",
    "        pivot = arr.pop(pivot_index)\n",
    "        less = [x for x in arr if x <= pivot]\n",
    "        greater = [x for x in arr if x > pivot]\n",
    "        return quicksort(less) + [pivot] + quicksort(greater)\n",
    "\n",
    "def get_median_of_three(arr):\n",
    "    if len(arr) < 3:\n",
    "        return len(arr) // 2\n",
    "    else:\n",
    "        indices = random.sample(range(len(arr)), 3)\n",
    "        values = [arr[i] for i in indices]\n",
    "        median_value = sorted(values)[1]\n",
    "        return arr.index(median_value)"
   ]
  },
  {
   "cell_type": "code",
   "execution_count": 45,
   "metadata": {},
   "outputs": [
    {
     "name": "stdout",
     "output_type": "stream",
     "text": [
      "quicksort time:  3.7445263862609863\n",
      "quicksort time:  4.0799784660339355\n",
      "quicksort time:  4.043107032775879\n",
      "quicksort time:  4.095697402954102\n",
      "quicksort time:  3.9377281665802\n",
      "quicksort time:  4.002207279205322\n",
      "quicksort time:  4.1786253452301025\n",
      "quicksort time:  3.7190141677856445\n",
      "quicksort time:  3.9948618412017822\n",
      "quicksort time:  3.725912570953369\n"
     ]
    }
   ],
   "source": [
    "# tab = list({2,6,9,5,34,87,65,5,4})\n",
    "# tab =  list({2,1})\n",
    "# print(quicksort(tab))\n",
    "\n",
    "for i in range(10):\n",
    "    tab = [random.randint(0, 1000000) for _ in range(1000000)]\n",
    "    start_time = time.time()\n",
    "    # print(quicksort(tab))\n",
    "    quicksort(tab)\n",
    "    quicksort_time = time.time() - start_time\n",
    "    print(\"quicksort time: \", quicksort_time)"
   ]
  },
  {
   "cell_type": "code",
   "execution_count": 36,
   "metadata": {},
   "outputs": [],
   "source": [
    "def calculate_frequencies(text):\n",
    "    frequencies = defaultdict(int)\n",
    "    for symbol in text:\n",
    "        frequencies[symbol] += 1\n",
    "    return frequencies\n",
    "\n",
    "def build_huffman_tree(frequencies):\n",
    "    heap = [[weight, [symbol, \"\"]] for symbol, weight in frequencies.items()]\n",
    "    heapq.heapify(heap)\n",
    "    while len(heap) > 1:\n",
    "        lo = heapq.heappop(heap)\n",
    "        hi = heapq.heappop(heap)\n",
    "        for pair in lo[1:]:\n",
    "            pair[1] = '0' + pair[1]\n",
    "        for pair in hi[1:]:\n",
    "            pair[1] = '1' + pair[1]\n",
    "        heapq.heappush(heap, [lo[0] + hi[0]] + lo[1:] + hi[1:])\n",
    "    return sorted(heapq.heappop(heap)[1:], key=lambda p: (len(p[-1]), p))\n",
    "\n",
    "def huffman_encode(text):\n",
    "    frequencies = calculate_frequencies(text)\n",
    "    huffman_tree = build_huffman_tree(frequencies)\n",
    "    with open(\"huffman_tree.txt\", \"w\") as f:\n",
    "        f.write(str(huffman_tree))\n",
    "    huffman_code = {symbol: code for symbol, code in huffman_tree}\n",
    "    return \"\".join(huffman_code[symbol] for symbol in text)"
   ]
  },
  {
   "cell_type": "code",
   "execution_count": 41,
   "metadata": {},
   "outputs": [
    {
     "name": "stdout",
     "output_type": "stream",
     "text": [
      "010111010110101010011111011100001111011111010001011011000101110011100110100111111001000111001011011111111101100011010011111100101101111001101011111110101001011001011110100111110001110011101000111111000110001001011010000101010111011010000011000001011110101110101111010111101010101001111111010111000011111100111000100111011111000011100100011011010110001111000111100110111001011000010000001100010101110110001111101001001111101010101000111100011001000011110101010100101110010101101010100111111010001001101110000111111001111110010111010011111101110010001111001110011101011100011000100111110110001011011110010101010111011010011101101000101110101001011101011010000000111101101001010111010111101001111100011101111110001101111110110001111110100011010010111110001011101111001010000010101101111000100001011100001101010101011011111100011101101011111111011100011100001011110011011010010001011110110010011001111111110111000110001011011100000010111100110101101100110111011010011110111011011001110100110101011000110100111001000001101110001100010000001100010000001111111011001110110001010100111101111101110010110110110111001111101000111101110100011111011100011011011100111100000010011010010110110000001110001110010110011010110101000111000011001101000110000000001110100011010111001110010101011101111110101000010100100101000001000011111001110111001011010100100010010011111110011011011100111111010001111101110001100010111101010000111011001101101100111001000000001110011010000010000011011100101100010100000100000100001001011000101001010010000101101001001000110000010101111100101001000000110001101101110000000100000110111001010000011011100111101110000111011000110101001111000110011011100110011111110111000111101110011111110011011011001110110111110101100011011110100011100011000100100011001000011100100110110100010101001101111111001010011100110100001000011010100000110111001100000011001111010101001\n"
     ]
    }
   ],
   "source": [
    "with(open(\"tekst.txt\", \"r\")) as f:\n",
    "    text = f.read()\n",
    "encoded = huffman_encode(text)\n",
    "with(open(\"encoded.txt\", \"w\")) as f:\n",
    "    f.write(encoded)\n",
    "print(encoded)"
   ]
  },
  {
   "cell_type": "code",
   "execution_count": 38,
   "metadata": {},
   "outputs": [
    {
     "name": "stdout",
     "output_type": "stream",
     "text": [
      "qirjsdnfmvskjncnzkdfjaskladfjgpaoiqlakdmnzbviertyueqpqprlamznzzytznvcxnkzsdfhewotuaygaoljkghaolfgirjmvbznzadflasdkzzmzbvjskbavrtytyqoqieutypqlaksakfabnmcvakjjgyuiauhfesofjzjbfasdjhfdslkjfvbjasdbvsdhfdsbdsslajbdmbxcnvhsdbvhbvhjabjbvlajsdfbsdaljfljsdbsdahvbgbdhzjvdsbljhdsuehjybfgdrtaouygyuhagsdfoyygadsfgaljsdbvaousgfbjvhudshyufgbveyuhgbvgyefygueoagyewbsdhyufgyufgteturjkgfggasdjfgadsfnbaxcmnukvwezgfyogfagyzshesyufgewaog\n"
     ]
    }
   ],
   "source": [
    "def huffman_decode(encoded_text, huffman_tree):\n",
    "    huffman_code = {code: symbol for symbol, code in huffman_tree}\n",
    "    symbol_code = ''\n",
    "    decoded_text = ''\n",
    "    for bit in encoded_text:\n",
    "        symbol_code += bit\n",
    "        if symbol_code in huffman_code:\n",
    "            decoded_text += huffman_code[symbol_code]\n",
    "            symbol_code = ''\n",
    "    return decoded_text\n",
    "\n",
    "def read_file_as_list(filename):\n",
    "    with open(filename, 'r') as file:\n",
    "        content = file.read()\n",
    "        list_content = eval(content)\n",
    "    return list_content\n",
    "\n",
    "filename = 'huffman_tree.txt'\n",
    "huffman_tree = read_file_as_list(filename)\n",
    "print(huffman_decode(encoded, huffman_tree))"
   ]
  }
 ],
 "metadata": {
  "kernelspec": {
   "display_name": "Python 3",
   "language": "python",
   "name": "python3"
  },
  "language_info": {
   "codemirror_mode": {
    "name": "ipython",
    "version": 3
   },
   "file_extension": ".py",
   "mimetype": "text/x-python",
   "name": "python",
   "nbconvert_exporter": "python",
   "pygments_lexer": "ipython3",
   "version": "3.10.0"
  }
 },
 "nbformat": 4,
 "nbformat_minor": 2
}
