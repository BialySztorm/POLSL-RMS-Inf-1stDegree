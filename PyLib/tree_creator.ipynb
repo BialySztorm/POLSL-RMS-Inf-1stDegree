{
 "cells": [
  {
   "cell_type": "code",
   "execution_count": null,
   "metadata": {},
   "outputs": [],
   "source": [
    "class Tree:\n",
    "    def __init__(self, name=None, value=None, left=None, right=None):\n",
    "        self.name = name\n",
    "        self.value = value\n",
    "        self.left = left\n",
    "        self.right = right\n",
    "    def add_edge(self, direction, name, value=None):\n",
    "        if direction == True:\n",
    "            self.right = Tree(name, value)\n",
    "        else:\n",
    "            self.left = Tree(name, value)"
   ]
  },
  {
   "cell_type": "code",
   "execution_count": null,
   "metadata": {},
   "outputs": [],
   "source": [
    "from graphviz import Digraph\n",
    "from IPython.display import Image\n",
    "\n",
    "def draw_tree(tree):\n",
    "    # Inicjalizacja grafu\n",
    "    dot = Digraph()\n",
    "\n",
    "    # Funkcja pomocnicza do dodawania węzłów i krawędzi do grafu\n",
    "    def add_edges(tree, parent=None):\n",
    "        if tree is not None:\n",
    "            # Dodaj węzeł do grafu\n",
    "            dot.node(tree.name)\n",
    "            if parent is not None:\n",
    "                # Dodaj krawędź do grafu\n",
    "                # Jeśli tree.value jest puste, nie dodaj etykiety\n",
    "                if tree.value is not None and tree.value != '':\n",
    "                    dot.edge(parent, tree.name, label=str(tree.value))\n",
    "                else:\n",
    "                    dot.edge(parent, tree.name)\n",
    "            if tree.left is not None:\n",
    "                add_edges(tree.left, tree.name)\n",
    "            if tree.right is not None:\n",
    "                add_edges(tree.right, tree.name)\n",
    "\n",
    "    # Dodaj węzły i krawędzie do grafu\n",
    "    add_edges(tree)\n",
    "\n",
    "    # Renderowanie grafu do pliku PNG i wyświetlanie go\n",
    "    dot.format = 'png'\n",
    "    dot.render('tree_graph', view=False)\n",
    "    return Image('tree_graph.png')"
   ]
  },
  {
   "cell_type": "code",
   "execution_count": null,
   "metadata": {},
   "outputs": [],
   "source": [
    "\n",
    "# Utwórz przykładowe drzewo\n",
    "root = Tree(' 14 ')\n",
    "root.add_edge(0,'b,5','0')\n",
    "root.add_edge(1,'9','1')\n",
    "root.right.add_edge(0,'4','0')\n",
    "root.right.add_edge(1,'c,5','1')\n",
    "root.right.left.add_edge(0,'d,0','0')\n",
    "root.right.left.add_edge(1,'a,4','1')\n",
    "\n",
    "\n",
    "# Rysuj drzewo\n",
    "draw_tree(root)\n",
    "\n"
   ]
  },
  {
   "cell_type": "code",
   "execution_count": null,
   "metadata": {},
   "outputs": [],
   "source": [
    "import os\n",
    "\n",
    "os.remove('tree_graph')\n",
    "os.remove('tree_graph.png')"
   ]
  }
 ],
 "metadata": {
  "kernelspec": {
   "display_name": "Python 3",
   "language": "python",
   "name": "python3"
  },
  "language_info": {
   "codemirror_mode": {
    "name": "ipython",
    "version": 3
   },
   "file_extension": ".py",
   "mimetype": "text/x-python",
   "name": "python",
   "nbconvert_exporter": "python",
   "pygments_lexer": "ipython3",
   "version": "3.10.3"
  }
 },
 "nbformat": 4,
 "nbformat_minor": 2
}
