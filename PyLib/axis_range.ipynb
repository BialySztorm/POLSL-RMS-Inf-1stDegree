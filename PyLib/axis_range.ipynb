{
 "cells": [
  {
   "cell_type": "code",
   "execution_count": 9,
   "metadata": {},
   "outputs": [],
   "source": [
    "import matplotlib.pyplot as plt\n",
    "\n",
    "\n",
    "def draw_axis_range(lower_limit, upper_limit, percentages, rounding):\n",
    "    plt.figure(figsize=(10, 1))\n",
    "    # Dodanie etykiet\n",
    "    plt.text(upper_limit, 0.01, f'{upper_limit:.{rounding}f}', ha='center', va='bottom', color='black')\n",
    "\n",
    "    # Przygotowanie danych\n",
    "    total_range = upper_limit - lower_limit\n",
    "    print(total_range)\n",
    "    for percentage in percentages:\n",
    "        range_value = total_range * percentage / 100.0\n",
    "\n",
    "        # Rysowanie zakresu na osi\n",
    "        plt.plot([lower_limit, lower_limit+range_value], [0, 0], linewidth=2, color='black', label=f'{percentage}% Range')\n",
    "        plt.scatter([lower_limit, lower_limit+range_value], [0, 0], color='black', marker='o', zorder=2)\n",
    "        # Dodanie etykiet\n",
    "        plt.text(lower_limit, 0.01, f'{lower_limit:.{rounding}f}', ha='center', va='bottom', color='black')\n",
    "\n",
    "        # plt.text((lower_limit + lower_limit+range_value) / 2, 0.02, f'Range: {range_value:.2f}', ha='center', va='bottom', color='black')\n",
    "        lower_limit += range_value\n",
    "\n",
    "    # Ustawienia wykresu\n",
    "    # plt.xlabel('Axis')\n",
    "    # plt.title('Axis Range Visualization')\n",
    "    # plt.gca().axes.get_yaxis().set_visible(False)  # Ukrycie osi Y\n",
    "    plt.grid(True, linestyle='--', alpha=0.7)\n",
    "    # plt.xticks([i * 0.1 for i in range(11)])\n",
    "    plt.axis(\"off\")\n",
    "\n",
    "    # Wyświetlenie legendy\n",
    "    # plt.legend()\n",
    "\n",
    "    # Wyświetlenie wykresu\n",
    "    plt.show()"
   ]
  },
  {
   "cell_type": "code",
   "execution_count": 14,
   "metadata": {},
   "outputs": [
    {
     "name": "stdout",
     "output_type": "stream",
     "text": [
      "0.0006000000000000449\n"
     ]
    },
    {
     "data": {
      "image/png": "[encoded data removed]",
      "text/plain": [
       "<Figure size 1000x100 with 1 Axes>"
      ]
     },
     "metadata": {},
     "output_type": "display_data"
    }
   ],
   "source": [
    "min1 = float(input(\"Min\"))\n",
    "max1 = float(input(\"Max\"))\n",
    "numbers = int(input(\"Numbers count\"))\n",
    "# Przykład użycia\n",
    "draw_axis_range(min1, max1, [30, 30, 20, 10, 10], numbers)\n"
   ]
  }
 ],
 "metadata": {
  "kernelspec": {
   "display_name": "Python 3",
   "language": "python",
   "name": "python3"
  },
  "language_info": {
   "codemirror_mode": {
    "name": "ipython",
    "version": 3
   },
   "file_extension": ".py",
   "mimetype": "text/x-python",
   "name": "python",
   "nbconvert_exporter": "python",
   "pygments_lexer": "ipython3",
   "version": "3.10.3"
  }
 },
 "nbformat": 4,
 "nbformat_minor": 2
}
