{
 "cells": [
  {
   "cell_type": "markdown",
   "metadata": {},
   "source": [
    " - Zaimplementuj prosty system rozmyty,\n",
    " - Zaimplementuj prostą sieć neuronową.\n",
    " - Zaimplementowane rozwiązania przetestuj na bazie Pima Indians Diabetes. Następnie dokonaj analizy porównawczej."
   ]
  },
  {
   "cell_type": "code",
   "execution_count": null,
   "metadata": {},
   "outputs": [],
   "source": [
    "import pandas as pd\n",
    "import numpy as np\n",
    "import matplotlib.pyplot as plt\n",
    "\n",
    "import tensorflow as tf\n",
    "from skfuzzy import control as ctrl\n",
    "\n",
    "\n",
    "from sklearn.model_selection import train_test_split"
   ]
  },
  {
   "cell_type": "markdown",
   "metadata": {},
   "source": [
    "### Wczytanie zbioru danych"
   ]
  },
  {
   "cell_type": "code",
   "execution_count": null,
   "metadata": {},
   "outputs": [],
   "source": [
    "data = pd.read_csv(r\"diabetes.csv\")"
   ]
  },
  {
   "cell_type": "code",
   "execution_count": null,
   "metadata": {},
   "outputs": [],
   "source": [
    "data.head()"
   ]
  },
  {
   "cell_type": "markdown",
   "metadata": {},
   "source": [
    "### Implementacja prostego systemu rozmytego"
   ]
  },
  {
   "cell_type": "code",
   "execution_count": null,
   "metadata": {},
   "outputs": [],
   "source": [
    "Pregnancies=ctrl.Antecedent(np.arange(0,17,1),'Pregnancies')\n",
    "Pregnancies.automf(5)\n",
    "\n",
    "Glucose=ctrl.Antecedent(np.arange(0,199,1),'Glucose')\n",
    "Glucose.automf(5)\n",
    "Glucose.view()\n",
    "\n",
    "BloodPressure=ctrl.Antecedent(np.arange(0,122,1),'Blood pressure')\n",
    "BloodPressure.automf(5)\n",
    "\n",
    "SkinThickness=ctrl.Antecedent(np.arange(0,99,1),'Skin thickness')\n",
    "SkinThickness.automf(5)\n",
    "\n",
    "Insulin=ctrl.Antecedent(np.arange(0,846,1),'Insulin')\n",
    "Insulin.automf(5)\n",
    "\n",
    "BMI=ctrl.Antecedent(np.arange(0,67.1,0.1),'BMI')\n",
    "BMI.automf(5)\n",
    "\n",
    "DiabetesPedigreeFunction =ctrl.Antecedent(np.arange(0,2.42,0.01),'Diabetes pedigree function')\n",
    "DiabetesPedigreeFunction.automf(5)\n",
    "\n",
    "Age =ctrl.Antecedent(np.arange(0,81,1),'Age')\n",
    "Age.automf(5)"
   ]
  },
  {
   "cell_type": "code",
   "execution_count": null,
   "metadata": {},
   "outputs": [],
   "source": [
    "obj =ctrl.Consequent(np.arange(0,1.05,0.05),'quality')\n",
    "obj.automf(5)\n",
    "obj.view()"
   ]
  },
  {
   "cell_type": "code",
   "execution_count": null,
   "metadata": {},
   "outputs": [],
   "source": [
    "rules = ctrl.ControlSystem([\n",
    "    ctrl.Rule(Insulin['poor'] & BMI['poor']& Age['poor'],obj['poor']),\n",
    "    ctrl.Rule(Insulin['poor'] & BMI['poor']& Age['mediocre'],obj['poor']),\n",
    "    ctrl.Rule(Insulin['poor'] & BMI['poor']& Age['average'],obj['poor']),\n",
    "    ctrl.Rule(Insulin['poor'] & BMI['poor']& Age['decent'],obj['poor']),\n",
    "    ctrl.Rule(Insulin['poor'] & BMI['poor']& Age['good'],obj['poor']),\n",
    "\n",
    "    ctrl.Rule(Insulin['poor'] & BMI['mediocre']& Age['poor'],obj['poor']),\n",
    "    ctrl.Rule(Insulin['poor'] & BMI['mediocre']& Age['mediocre'],obj['poor']),\n",
    "    ctrl.Rule(Insulin['poor'] & BMI['mediocre']& Age['average'],obj['poor']),\n",
    "    ctrl.Rule(Insulin['poor'] & BMI['mediocre']& Age['decent'],obj['poor']),\n",
    "    ctrl.Rule(Insulin['poor'] & BMI['mediocre']& Age['good'],obj['mediocre']),\n",
    "\n",
    "    ctrl.Rule(Insulin['poor'] & BMI['average']& Age['poor'],obj['poor']),\n",
    "    ctrl.Rule(Insulin['poor'] & BMI['average']& Age['mediocre'],obj['poor']),\n",
    "    ctrl.Rule(Insulin['poor'] & BMI['average']& Age['average'],obj['poor']),\n",
    "    ctrl.Rule(Insulin['poor'] & BMI['average']& Age['decent'],obj['mediocre']),\n",
    "    ctrl.Rule(Insulin['poor'] & BMI['average']& Age['good'],obj['mediocre']),\n",
    "\n",
    "    ctrl.Rule(Insulin['poor'] & BMI['decent']& Age['poor'],obj['poor']),\n",
    "    ctrl.Rule(Insulin['poor'] & BMI['decent']& Age['mediocre'],obj['poor']),\n",
    "    ctrl.Rule(Insulin['poor'] & BMI['decent']& Age['average'],obj['mediocre']),\n",
    "    ctrl.Rule(Insulin['poor'] & BMI['decent']& Age['decent'],obj['mediocre']),\n",
    "    ctrl.Rule(Insulin['poor'] & BMI['decent']& Age['good'],obj['mediocre']),\n",
    "\n",
    "    ctrl.Rule(Insulin['poor'] & BMI['good']& Age['poor'],obj['poor']),\n",
    "    ctrl.Rule(Insulin['poor'] & BMI['good']& Age['mediocre'],obj['mediocre']),\n",
    "    ctrl.Rule(Insulin['poor'] & BMI['good']& Age['average'],obj['mediocre']),\n",
    "    ctrl.Rule(Insulin['poor'] & BMI['good']& Age['decent'],obj['mediocre']),\n",
    "    ctrl.Rule(Insulin['poor'] & BMI['good']& Age['good'],obj['average']),\n",
    "\n",
    "    ctrl.Rule(Insulin['mediocre'] & BMI['poor']& Age['poor'],obj['poor']),\n",
    "    ctrl.Rule(Insulin['mediocre'] & BMI['poor']& Age['mediocre'],obj['poor']),\n",
    "    ctrl.Rule(Insulin['mediocre'] & BMI['poor']& Age['average'],obj['poor']),\n",
    "    ctrl.Rule(Insulin['mediocre'] & BMI['poor']& Age['decent'],obj['poor']),\n",
    "    ctrl.Rule(Insulin['mediocre'] & BMI['poor']& Age['good'],obj['mediocre']),\n",
    "\n",
    "    ctrl.Rule(Insulin['mediocre'] & BMI['mediocre']& Age['poor'],obj['poor']),\n",
    "    ctrl.Rule(Insulin['mediocre'] & BMI['mediocre']& Age['mediocre'],obj['poor']),\n",
    "    ctrl.Rule(Insulin['mediocre'] & BMI['mediocre']& Age['average'],obj['poor']),\n",
    "    ctrl.Rule(Insulin['mediocre'] & BMI['mediocre']& Age['decent'],obj['mediocre']),\n",
    "    ctrl.Rule(Insulin['mediocre'] & BMI['mediocre']& Age['good'],obj['mediocre']),\n",
    "\n",
    "    ctrl.Rule(Insulin['mediocre'] & BMI['average']& Age['poor'],obj['poor']),\n",
    "    ctrl.Rule(Insulin['mediocre'] & BMI['average']& Age['mediocre'],obj['poor']),\n",
    "    ctrl.Rule(Insulin['mediocre'] & BMI['average']& Age['average'],obj['mediocre']),\n",
    "    ctrl.Rule(Insulin['mediocre'] & BMI['average']& Age['decent'],obj['mediocre']),\n",
    "    ctrl.Rule(Insulin['mediocre'] & BMI['average']& Age['good'],obj['mediocre']),\n",
    "\n",
    "    ctrl.Rule(Insulin['mediocre'] & BMI['decent']& Age['poor'],obj['poor']),\n",
    "    ctrl.Rule(Insulin['mediocre'] & BMI['decent']& Age['mediocre'],obj['mediocre']),\n",
    "    ctrl.Rule(Insulin['mediocre'] & BMI['decent']& Age['average'],obj['mediocre']),\n",
    "    ctrl.Rule(Insulin['mediocre'] & BMI['decent']& Age['decent'],obj['mediocre']),\n",
    "    ctrl.Rule(Insulin['mediocre'] & BMI['decent']& Age['good'],obj['average']),\n",
    "\n",
    "    ctrl.Rule(Insulin['mediocre'] & BMI['good']& Age['poor'],obj['mediocre']),\n",
    "    ctrl.Rule(Insulin['mediocre'] & BMI['good']& Age['mediocre'],obj['mediocre']),\n",
    "    ctrl.Rule(Insulin['mediocre'] & BMI['good']& Age['average'],obj['mediocre']),\n",
    "    ctrl.Rule(Insulin['mediocre'] & BMI['good']& Age['decent'],obj['average']),\n",
    "    ctrl.Rule(Insulin['mediocre'] & BMI['good']& Age['good'],obj['decent']),\n",
    "\n",
    "    ctrl.Rule(Insulin['average'] & BMI['poor']& Age['poor'],obj['poor']),\n",
    "    ctrl.Rule(Insulin['average'] & BMI['poor']& Age['mediocre'],obj['poor']),\n",
    "    ctrl.Rule(Insulin['average'] & BMI['poor']& Age['average'],obj['poor']),\n",
    "    ctrl.Rule(Insulin['average'] & BMI['poor']& Age['decent'],obj['mediocre']),\n",
    "    ctrl.Rule(Insulin['average'] & BMI['poor']& Age['good'],obj['mediocre']),\n",
    "\n",
    "    ctrl.Rule(Insulin['average'] & BMI['mediocre']& Age['poor'],obj['poor']),\n",
    "    ctrl.Rule(Insulin['average'] & BMI['mediocre']& Age['mediocre'],obj['poor']),\n",
    "    ctrl.Rule(Insulin['average'] & BMI['mediocre']& Age['average'],obj['mediocre']),\n",
    "    ctrl.Rule(Insulin['average'] & BMI['mediocre']& Age['decent'],obj['mediocre']),\n",
    "    ctrl.Rule(Insulin['average'] & BMI['mediocre']& Age['good'],obj['mediocre']),\n",
    "\n",
    "    ctrl.Rule(Insulin['average'] & BMI['average']& Age['poor'],obj['poor']),\n",
    "    ctrl.Rule(Insulin['average'] & BMI['average']& Age['mediocre'],obj['mediocre']),\n",
    "    ctrl.Rule(Insulin['average'] & BMI['average']& Age['average'],obj['mediocre']),\n",
    "    ctrl.Rule(Insulin['average'] & BMI['average']& Age['decent'],obj['mediocre']),\n",
    "    ctrl.Rule(Insulin['average'] & BMI['average']& Age['good'],obj['average']),\n",
    "\n",
    "    ctrl.Rule(Insulin['average'] & BMI['decent']& Age['poor'],obj['mediocre']),\n",
    "    ctrl.Rule(Insulin['average'] & BMI['decent']& Age['mediocre'],obj['mediocre']),\n",
    "    ctrl.Rule(Insulin['average'] & BMI['decent']& Age['average'],obj['mediocre']),\n",
    "    ctrl.Rule(Insulin['average'] & BMI['decent']& Age['decent'],obj['average']),\n",
    "    ctrl.Rule(Insulin['average'] & BMI['decent']& Age['good'],obj['decent']),\n",
    "\n",
    "    ctrl.Rule(Insulin['average'] & BMI['good']& Age['poor'],obj['mediocre']),\n",
    "    ctrl.Rule(Insulin['average'] & BMI['good']& Age['mediocre'],obj['mediocre']),\n",
    "    ctrl.Rule(Insulin['average'] & BMI['good']& Age['average'],obj['average']),\n",
    "    ctrl.Rule(Insulin['average'] & BMI['good']& Age['decent'],obj['decent']),\n",
    "    ctrl.Rule(Insulin['average'] & BMI['good']& Age['good'],obj['decent']),\n",
    "\n",
    "    ctrl.Rule(Insulin['decent'] & BMI['poor']& Age['poor'],obj['poor']),\n",
    "    ctrl.Rule(Insulin['decent'] & BMI['poor']& Age['mediocre'],obj['poor']),\n",
    "    ctrl.Rule(Insulin['decent'] & BMI['poor']& Age['average'],obj['mediocre']),\n",
    "    ctrl.Rule(Insulin['decent'] & BMI['poor']& Age['decent'],obj['mediocre']),\n",
    "    ctrl.Rule(Insulin['decent'] & BMI['poor']& Age['good'],obj['mediocre']),\n",
    "\n",
    "    ctrl.Rule(Insulin['decent'] & BMI['mediocre']& Age['poor'],obj['poor']),\n",
    "    ctrl.Rule(Insulin['decent'] & BMI['mediocre']& Age['mediocre'],obj['mediocre']),\n",
    "    ctrl.Rule(Insulin['decent'] & BMI['mediocre']& Age['average'],obj['mediocre']),\n",
    "    ctrl.Rule(Insulin['decent'] & BMI['mediocre']& Age['decent'],obj['mediocre']),\n",
    "    ctrl.Rule(Insulin['decent'] & BMI['mediocre']& Age['good'],obj['average']),\n",
    "\n",
    "    ctrl.Rule(Insulin['decent'] & BMI['average']& Age['poor'],obj['mediocre']),\n",
    "    ctrl.Rule(Insulin['decent'] & BMI['average']& Age['mediocre'],obj['mediocre']),\n",
    "    ctrl.Rule(Insulin['decent'] & BMI['average']& Age['average'],obj['mediocre']),\n",
    "    ctrl.Rule(Insulin['decent'] & BMI['average']& Age['decent'],obj['average']),\n",
    "    ctrl.Rule(Insulin['decent'] & BMI['average']& Age['good'],obj['decent']),\n",
    "\n",
    "    ctrl.Rule(Insulin['decent'] & BMI['decent']& Age['poor'],obj['mediocre']),\n",
    "    ctrl.Rule(Insulin['decent'] & BMI['decent']& Age['mediocre'],obj['mediocre']),\n",
    "    ctrl.Rule(Insulin['decent'] & BMI['decent']& Age['average'],obj['average']),\n",
    "    ctrl.Rule(Insulin['decent'] & BMI['decent']& Age['decent'],obj['decent']),\n",
    "    ctrl.Rule(Insulin['decent'] & BMI['decent']& Age['good'],obj['decent']),\n",
    "\n",
    "    ctrl.Rule(Insulin['decent'] & BMI['good']& Age['poor'],obj['mediocre']),\n",
    "    ctrl.Rule(Insulin['decent'] & BMI['good']& Age['mediocre'],obj['average']),\n",
    "    ctrl.Rule(Insulin['decent'] & BMI['good']& Age['average'],obj['decent']),\n",
    "    ctrl.Rule(Insulin['decent'] & BMI['good']& Age['decent'],obj['decent']),\n",
    "    ctrl.Rule(Insulin['decent'] & BMI['good']& Age['good'],obj['decent']),\n",
    "\n",
    "    ctrl.Rule(Insulin['good'] & BMI['poor']& Age['poor'],obj['poor']),\n",
    "    ctrl.Rule(Insulin['good'] & BMI['poor']& Age['mediocre'],obj['mediocre']),\n",
    "    ctrl.Rule(Insulin['good'] & BMI['poor']& Age['average'],obj['mediocre']),\n",
    "    ctrl.Rule(Insulin['good'] & BMI['poor']& Age['decent'],obj['mediocre']),\n",
    "    ctrl.Rule(Insulin['good'] & BMI['poor']& Age['good'],obj['average']),\n",
    "\n",
    "    ctrl.Rule(Insulin['good'] & BMI['mediocre']& Age['poor'],obj['mediocre']),\n",
    "    ctrl.Rule(Insulin['good'] & BMI['mediocre']& Age['mediocre'],obj['mediocre']),\n",
    "    ctrl.Rule(Insulin['good'] & BMI['mediocre']& Age['average'],obj['mediocre']),\n",
    "    ctrl.Rule(Insulin['good'] & BMI['mediocre']& Age['decent'],obj['average']),\n",
    "    ctrl.Rule(Insulin['good'] & BMI['mediocre']& Age['good'],obj['decent']),\n",
    "\n",
    "    ctrl.Rule(Insulin['good'] & BMI['average']& Age['poor'],obj['mediocre']),\n",
    "    ctrl.Rule(Insulin['good'] & BMI['average']& Age['mediocre'],obj['mediocre']),\n",
    "    ctrl.Rule(Insulin['good'] & BMI['average']& Age['average'],obj['average']),\n",
    "    ctrl.Rule(Insulin['good'] & BMI['average']& Age['decent'],obj['decent']),\n",
    "    ctrl.Rule(Insulin['good'] & BMI['average']& Age['good'],obj['decent']),\n",
    "\n",
    "    ctrl.Rule(Insulin['good'] & BMI['decent']& Age['poor'],obj['mediocre']),\n",
    "    ctrl.Rule(Insulin['good'] & BMI['decent']& Age['mediocre'],obj['average']),\n",
    "    ctrl.Rule(Insulin['good'] & BMI['decent']& Age['average'],obj['decent']),\n",
    "    ctrl.Rule(Insulin['good'] & BMI['decent']& Age['decent'],obj['decent']),\n",
    "    ctrl.Rule(Insulin['good'] & BMI['decent']& Age['good'],obj['decent']),\n",
    "\n",
    "    ctrl.Rule(Insulin['good'] & BMI['good']& Age['poor'],obj['average']),\n",
    "    ctrl.Rule(Insulin['good'] & BMI['good']& Age['mediocre'],obj['decent']),\n",
    "    ctrl.Rule(Insulin['good'] & BMI['good']& Age['average'],obj['decent']),\n",
    "    ctrl.Rule(Insulin['good'] & BMI['good']& Age['decent'],obj['decent']),\n",
    "    ctrl.Rule(Insulin['good'] & BMI['good']& Age['good'],obj['good']),\n",
    "\n",
    "    \n",
    "])\n",
    "\n",
    "system= ctrl.ControlSystemSimulation(rules) "
   ]
  },
  {
   "cell_type": "code",
   "execution_count": null,
   "metadata": {},
   "outputs": [],
   "source": [
    "system.input['Insulin'] = 450\n",
    "system.input['BMI'] = 28.9\n",
    "system.input['Age'] = 22\n",
    "system.compute()\n",
    "print(system.output['quality'])"
   ]
  },
  {
   "cell_type": "code",
   "execution_count": null,
   "metadata": {},
   "outputs": [],
   "source": [
    "obj.view(sim=system)"
   ]
  },
  {
   "cell_type": "markdown",
   "metadata": {},
   "source": [
    "### Przygotowanie danych"
   ]
  },
  {
   "cell_type": "code",
   "execution_count": null,
   "metadata": {},
   "outputs": [],
   "source": [
    "from sklearn.datasets import load_diabetes\n",
    "\n",
    "\n",
    "diabetes_dataset = load_diabetes()\n",
    "\n",
    "data = diabetes_dataset['data']\n",
    "targets = diabetes_dataset['target']\n",
    "y_binary = (diabetes_dataset.target > np.mean(diabetes_dataset.target)).astype(int)  # 1 if above average, else 0\n",
    "\n",
    "X_train, X_test, y_train, y_test = train_test_split(data, y_binary, test_size=.1)"
   ]
  },
  {
   "cell_type": "markdown",
   "metadata": {},
   "source": [
    "### Implementacja sieci neuronowej za pomocą biblioteki tensorflow"
   ]
  },
  {
   "cell_type": "code",
   "execution_count": null,
   "metadata": {},
   "outputs": [],
   "source": [
    "#Wyznaczenie metryk dla zbioru walidacyjnego\n",
    "def show_stats(model):\n",
    "    test_loss, test_mae, test_accuracy = model.evaluate(X_test, y_test)\n",
    "    print(\"Wartość funkcji straty dla zbioru testowego: \"+str(test_loss))\n",
    "    print(\"Wartość dokladnosci dla zbioru testowego: \"+str(test_accuracy))\n",
    "    print(\"Wartość funkcji MSE dla zbioru testowego: \"+str(test_mae))\n",
    "\n",
    "#Wyświetl wykres uczenia - funkcja straty\n",
    "def show_loss_chart(history):\n",
    "    plt.plot(history.history['loss'])\n",
    "    plt.plot(history.history['val_loss'])\n",
    "    plt.title('Loss vs. epochs - plain model')\n",
    "    plt.ylabel('Loss')\n",
    "    plt.xlabel('Epoch')\n",
    "    plt.legend(['Training', 'Validation'], loc='upper right')\n",
    "    plt.show()\n",
    "\n",
    "#Wyświetl wykres uczenia - dokładność na zbiorze treningowym\n",
    "def show_accurency_chart(history):\n",
    "    plt.plot(history.history['accuracy'])\n",
    "    plt.plot(history.history['val_accuracy'])\n",
    "    plt.title('Loss vs. epochs - plain model')\n",
    "    plt.ylabel('Loss')\n",
    "    plt.xlabel('Epoch')\n",
    "    plt.legend(['Training', 'Validation'], loc='upper right')\n",
    "    plt.show()\n",
    "\n",
    "def show_loss_chart_difference(history1, history2):\n",
    "    plt.plot(history1.history['loss'])\n",
    "    plt.plot(history1.history['val_loss'])\n",
    "    plt.plot(history2.history['loss'])\n",
    "    plt.plot(history2.history['val_loss'])\n",
    "    plt.title('Loss vs. epochs - plain model')\n",
    "    plt.ylabel('Loss')\n",
    "    plt.xlabel('Epoch')\n",
    "    plt.legend(['Training1', 'Validation1', 'Training2', 'Validation2'], loc='upper right')\n",
    "    plt.show()\n",
    "\n",
    "def show_accurency_chart_difference(history1, history2):\n",
    "    plt.plot(history1.history['accuracy'])\n",
    "    plt.plot(history1.history['val_accuracy'])\n",
    "    plt.plot(history2.history['accuracy'])\n",
    "    plt.plot(history2.history['val_accuracy'])\n",
    "    plt.title('Loss vs. epochs - plain model')\n",
    "    plt.ylabel('Loss')\n",
    "    plt.xlabel('Epoch')\n",
    "    plt.legend(['Training1', 'Validation1', 'Training2', 'Validation2'], loc='upper right')\n",
    "    plt.show()\n",
    "\n",
    "def show_loss_chart_difference_tab(histories):\n",
    "    for history in histories:\n",
    "        plt.plot(history.history['loss'])\n",
    "        plt.plot(history.history['val_loss'])\n",
    "    plt.title('Loss vs. epochs - plain model')\n",
    "    plt.ylabel('Loss')\n",
    "    plt.xlabel('Epoch')\n",
    "    legend = []\n",
    "    for i in range(len(histories)):\n",
    "        legend.append('Training'+str(i))\n",
    "        legend.append('Validation'+str(i))\n",
    "    plt.legend(legend, loc='upper right')\n",
    "    plt.show()\n",
    "\n",
    "def show_accurency_chart_difference_tab(histories):\n",
    "    for history in histories:\n",
    "        plt.plot(history.history['accuracy'])\n",
    "        plt.plot(history.history['val_accuracy'])\n",
    "    plt.title('Loss vs. epochs - plain model')\n",
    "    plt.ylabel('Loss')\n",
    "    plt.xlabel('Epoch')\n",
    "    legend = []\n",
    "    for i in range(len(histories)):\n",
    "        legend.append('Training'+str(i))\n",
    "        legend.append('Validation'+str(i))\n",
    "    plt.legend(legend, loc='upper right')\n",
    "    plt.show()\n",
    "\n"
   ]
  },
  {
   "cell_type": "code",
   "execution_count": null,
   "metadata": {},
   "outputs": [],
   "source": [
    "# Stwórz model\n",
    "model = tf.keras.Sequential([\n",
    "  tf.keras.layers.Dense(10, activation=\"relu\", input_shape=(10,)),  # input shape required\n",
    "  tf.keras.layers.Dense(15, activation=\"relu\"),\n",
    "  tf.keras.layers.Dense(1, activation=\"sigmoid\")\n",
    "])\n",
    "\n",
    "#skompiluj model\n",
    "model.compile(optimizer='adam', loss='binary_crossentropy', metrics=['mae','accuracy']) #algorytm uczenia - adam, funkcja straty - mse, binary_crossentropy \n",
    "\n",
    "#naucz sieć i zapisz wyniki uczenia jako historia \n",
    "history = model.fit(X_train, y_train, epochs=100, batch_size=32, validation_split=0.2)"
   ]
  },
  {
   "cell_type": "code",
   "execution_count": null,
   "metadata": {},
   "outputs": [],
   "source": [
    "show_stats(model)"
   ]
  },
  {
   "cell_type": "code",
   "execution_count": null,
   "metadata": {},
   "outputs": [],
   "source": [
    "show_loss_chart(history)"
   ]
  },
  {
   "cell_type": "code",
   "execution_count": null,
   "metadata": {},
   "outputs": [],
   "source": [
    "show_accurency_chart(history)"
   ]
  },
  {
   "cell_type": "markdown",
   "metadata": {},
   "source": [
    "### Zadania do wykonania w ramach laboratorium:\n",
    "    "
   ]
  },
  {
   "cell_type": "markdown",
   "metadata": {},
   "source": [
    "1. Zbuduj większą sieć i wytrenuj. Porównaj wyniki z siecią podaną wyżej za pomocą wykresów (np.: różnicy). Wyświetl również wnioski jakie płyną z wykonanej analizy."
   ]
  },
  {
   "cell_type": "code",
   "execution_count": null,
   "metadata": {},
   "outputs": [],
   "source": [
    "# Stwórz model\n",
    "model1 = tf.keras.Sequential([\n",
    "  tf.keras.layers.Dense(30, activation=\"relu\", input_shape=(10,)),\n",
    "  tf.keras.layers.Dense(30, activation=\"relu\"),\n",
    "  tf.keras.layers.Dense(15, activation=\"relu\"),\n",
    "  tf.keras.layers.Dense(30, activation=\"relu\"),\n",
    "  tf.keras.layers.Dense(15, activation=\"relu\"),\n",
    "  tf.keras.layers.Dense(1, activation=\"sigmoid\")\n",
    "])\n",
    "\n",
    "#skompiluj model\n",
    "model1.compile(optimizer='adam', loss='binary_crossentropy', metrics=['mae','accuracy']) #algorytm uczenia - adam, funkcja straty - mse, binary_crossentropy \n",
    "\n",
    "#naucz sieć i zapisz wyniki uczenia jako historia \n",
    "history1 = model1.fit(X_train, y_train, epochs=100, batch_size=32, validation_split=0.2)"
   ]
  },
  {
   "cell_type": "code",
   "execution_count": null,
   "metadata": {},
   "outputs": [],
   "source": [
    "show_stats(model1)\n",
    "show_loss_chart(history1)\n",
    "show_accurency_chart(history1)"
   ]
  },
  {
   "cell_type": "code",
   "execution_count": null,
   "metadata": {},
   "outputs": [],
   "source": [
    "show_loss_chart_difference(history, history1)\n",
    "show_accurency_chart_difference(history, history1)"
   ]
  },
  {
   "cell_type": "markdown",
   "metadata": {},
   "source": [
    "Wniosek: Można zauważyć że większa sieć opdowiednio wytrenowana może dać dokładniejsze wyniki dla zestawu testowego."
   ]
  },
  {
   "cell_type": "markdown",
   "metadata": {},
   "source": [
    " 2. Wytrenuj obydwie sieci z wykorzystaniem algorytmu adam oraz sgd. Wykonaj analizę porównawczą i wykonaj dyskusję na ich temat."
   ]
  },
  {
   "cell_type": "code",
   "execution_count": null,
   "metadata": {},
   "outputs": [],
   "source": [
    "model2 = tf.keras.Sequential([\n",
    "    tf.keras.layers.Dense(10, activation=\"relu\", input_shape=(10,)),  # input shape required\n",
    "    tf.keras.layers.Dense(15, activation=\"relu\"),\n",
    "    tf.keras.layers.Dense(1, activation=\"sigmoid\")\n",
    "    ])\n",
    "\n",
    "model2.compile(optimizer='sgd', loss='binary_crossentropy', metrics=['mae','accuracy'])\n",
    "\n",
    "history2 = model2.fit(X_train, y_train, epochs=100, batch_size=32, validation_split=0.2)"
   ]
  },
  {
   "cell_type": "code",
   "execution_count": null,
   "metadata": {},
   "outputs": [],
   "source": [
    "model3 = tf.keras.Sequential([\n",
    "    tf.keras.layers.Dense(30, activation=\"relu\", input_shape=(10,)),\n",
    "    tf.keras.layers.Dense(30, activation=\"relu\"),\n",
    "    tf.keras.layers.Dense(15, activation=\"relu\"),\n",
    "    tf.keras.layers.Dense(30, activation=\"relu\"),\n",
    "    tf.keras.layers.Dense(15, activation=\"relu\"),\n",
    "    tf.keras.layers.Dense(1, activation=\"sigmoid\")\n",
    "    ])\n",
    "    \n",
    "model3.compile(optimizer='sgd', loss='binary_crossentropy', metrics=['mae','accuracy'])\n",
    "\n",
    "history3 = model3.fit(X_train, y_train, epochs=100, batch_size=32, validation_split=0.2)"
   ]
  },
  {
   "cell_type": "code",
   "execution_count": null,
   "metadata": {},
   "outputs": [],
   "source": [
    "show_stats(model)\n",
    "show_stats(model2)\n",
    "show_loss_chart_difference(history, history2)\n",
    "show_accurency_chart_difference(history, history2)"
   ]
  },
  {
   "cell_type": "code",
   "execution_count": null,
   "metadata": {},
   "outputs": [],
   "source": [
    "show_stats(model1)\n",
    "show_stats(model3)\n",
    "show_loss_chart_difference(history1, history3)\n",
    "show_accurency_chart_difference(history1, history3)"
   ]
  },
  {
   "cell_type": "code",
   "execution_count": null,
   "metadata": {},
   "outputs": [],
   "source": [
    "show_loss_chart_difference_tab([history, history1, history2, history3])\n",
    "show_accurency_chart_difference_tab([history, history1, history2, history3])"
   ]
  },
  {
   "cell_type": "markdown",
   "metadata": {},
   "source": [
    "Wnioski: Optymalizator na starcie ma większą dokładność, lecz większe straty, chociaż przy większej iteracji za pomocą adam można uzyskać  lepsze wyniki"
   ]
  },
  {
   "cell_type": "markdown",
   "metadata": {},
   "source": [
    "3. Porównaj dokładność na zbiorze walidacyjnym/testowym z algorytmem KNN."
   ]
  },
  {
   "cell_type": "code",
   "execution_count": null,
   "metadata": {},
   "outputs": [],
   "source": [
    "class KNN:\n",
    "    def __init__(self, k):\n",
    "        self.k = k\n",
    "\n",
    "    def fit(self, X, y):\n",
    "        self.X_train = X\n",
    "        self.y_train = y\n",
    "\n",
    "    def predict(self, X_test):\n",
    "        predictions = []\n",
    "        for x in X_test:\n",
    "            distances = [np.linalg.norm(x - x_train) for x_train in self.X_train]\n",
    "            k_indices = np.argsort(distances)[:self.k]\n",
    "            k_nearest_labels = [self.y_train[i] for i in k_indices]\n",
    "            predicted_value = max(set(k_nearest_labels), key=k_nearest_labels.count)\n",
    "            predictions.append(predicted_value)\n",
    "        return predictions\n",
    "    def score(self, X_test, y_test):\n",
    "        predictions = self.predict(X_test)\n",
    "        return np.mean(predictions == y_test)\n",
    "        "
   ]
  },
  {
   "cell_type": "code",
   "execution_count": null,
   "metadata": {},
   "outputs": [],
   "source": [
    "k = 3\n",
    "knn = KNN(k)\n",
    "\n",
    "knn.fit(X_train, y_train)\n",
    "predictions = knn.predict(X_test)\n",
    "# for i in range(len(predictions)):\n",
    "#     print(f'Predicted value: {predictions[i]}, Actual value: {y_test.iloc[i]}')\n",
    "print(f'KNN accuracy: {knn.score(X_test, y_test)}')\n",
    "\n",
    "show_stats(model)"
   ]
  },
  {
   "cell_type": "markdown",
   "metadata": {},
   "source": [
    "Sieć neuronowa zajmuje więcej czasu pod względem wyuczenia, lecz później jest szybsza, gdzie przy większych danych daje do przewagę, chociaż dokładność w sieci neuronowej zależy od stopnia wyuczenia, a w KNN od ilości parametrów."
   ]
  },
  {
   "cell_type": "markdown",
   "metadata": {},
   "source": [
    "4. Czy większe sieci zawsze zwracają dokładniejsze wyniki? Uzasadnij pokazując wyniki uczenia dla różnych sieci i wyświetl wyniki w celu ich analizy."
   ]
  },
  {
   "cell_type": "code",
   "execution_count": null,
   "metadata": {},
   "outputs": [],
   "source": [
    "model = tf.keras.Sequential([\n",
    "    tf.keras.layers.Dense(10, activation=\"relu\", input_shape=(10,)),  # input shape required\n",
    "    tf.keras.layers.Dense(15, activation=\"relu\"),\n",
    "    tf.keras.layers.Dense(1, activation=\"sigmoid\")\n",
    "    ])\n",
    "\n",
    "\n",
    "model.compile(optimizer='adam', loss='binary_crossentropy', metrics=['mae','accuracy'])\n",
    "\n",
    "history = model.fit(X_train, y_train, epochs=100, batch_size=32, validation_split=0.2)"
   ]
  },
  {
   "cell_type": "code",
   "execution_count": null,
   "metadata": {},
   "outputs": [],
   "source": [
    "model1 = tf.keras.Sequential([\n",
    "    tf.keras.layers.Dense(10, activation=\"relu\", input_shape=(10,)),  # input shape required\n",
    "    tf.keras.layers.Dense(15, activation=\"relu\"),\n",
    "    tf.keras.layers.Dense(10, activation=\"relu\"),\n",
    "    tf.keras.layers.Dense(10, activation=\"relu\"),\n",
    "    tf.keras.layers.Dense(15, activation=\"relu\"),\n",
    "    tf.keras.layers.Dense(1, activation=\"sigmoid\")\n",
    "    ])\n",
    "\n",
    "model1.compile(optimizer='adam', loss='binary_crossentropy', metrics=['mae','accuracy'])\n",
    "\n",
    "history1 = model1.fit(X_train, y_train, epochs=100, batch_size=32, validation_split=0.2)"
   ]
  },
  {
   "cell_type": "code",
   "execution_count": null,
   "metadata": {},
   "outputs": [],
   "source": [
    "model2 = tf.keras.Sequential([\n",
    "    tf.keras.layers.Dense(10, activation=\"relu\", input_shape=(10,)),  # input shape required\n",
    "    tf.keras.layers.Dense(15, activation=\"relu\"),\n",
    "    tf.keras.layers.Dense(5, activation=\"relu\"),\n",
    "    tf.keras.layers.Dense(1, activation=\"sigmoid\")\n",
    "    ])\n",
    "\n",
    "model2.compile(optimizer='adam', loss='binary_crossentropy', metrics=['mae','accuracy'])\n",
    "\n",
    "history2 = model2.fit(X_train, y_train, epochs=100, batch_size=32, validation_split=0.2)"
   ]
  },
  {
   "cell_type": "code",
   "execution_count": null,
   "metadata": {},
   "outputs": [],
   "source": [
    "model3 = tf.keras.Sequential([\n",
    "    tf.keras.layers.Dense(10, activation=\"relu\", input_shape=(10,)),  # input shape required\n",
    "    tf.keras.layers.Dense(15, activation=\"relu\"),\n",
    "    tf.keras.layers.Dense(10, activation=\"relu\"),\n",
    "    tf.keras.layers.Dense(10, activation=\"relu\"),\n",
    "    tf.keras.layers.Dense(10, activation=\"relu\"),\n",
    "    tf.keras.layers.Dense(10, activation=\"relu\"),\n",
    "    tf.keras.layers.Dense(10, activation=\"relu\"),\n",
    "    tf.keras.layers.Dense(15, activation=\"relu\"),\n",
    "    tf.keras.layers.Dense(1, activation=\"sigmoid\")\n",
    "    ])\n",
    "\n",
    "model3.compile(optimizer='adam', loss='binary_crossentropy', metrics=['mae','accuracy'])\n",
    "\n",
    "history3 = model3.fit(X_train, y_train, epochs=100, batch_size=32, validation_split=0.2)"
   ]
  },
  {
   "cell_type": "code",
   "execution_count": null,
   "metadata": {},
   "outputs": [],
   "source": [
    "show_stats(model)\n",
    "show_stats(model1)\n",
    "show_stats(model2)\n",
    "show_stats(model3)\n",
    "\n",
    "show_loss_chart_difference_tab([history, history1, history2, history3])\n",
    "show_accurency_chart_difference_tab([history, history1, history2, history3])"
   ]
  },
  {
   "cell_type": "markdown",
   "metadata": {},
   "source": [
    "Większe sieci nie zawsze zwracają dokładniejszy wynik, czasami większa sieć potrafi zwrócić gorszy wynik niż sieć dużo mniejsza od niej, wszystko zależy od gęstości oraz wielkości."
   ]
  }
 ],
 "metadata": {
  "kernelspec": {
   "display_name": "base",
   "language": "python",
   "name": "python3"
  },
  "language_info": {
   "codemirror_mode": {
    "name": "ipython",
    "version": 3
   },
   "file_extension": ".py",
   "mimetype": "text/x-python",
   "name": "python",
   "nbconvert_exporter": "python",
   "pygments_lexer": "ipython3",
   "version": "3.11.7"
  }
 },
 "nbformat": 4,
 "nbformat_minor": 2
}
