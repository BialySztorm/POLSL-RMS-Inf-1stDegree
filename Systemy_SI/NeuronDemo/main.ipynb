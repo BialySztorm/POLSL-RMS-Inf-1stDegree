{
 "cells": [
  {
   "cell_type": "code",
   "execution_count": null,
   "id": "2f6dd15c",
   "metadata": {},
   "outputs": [],
   "source": [
    "#biblioteka tensorflow\n",
    "# pip install tensorflow"
   ]
  },
  {
   "cell_type": "code",
   "execution_count": null,
   "id": "e580331f",
   "metadata": {},
   "outputs": [],
   "source": [
    "#zaimportuj bibliotekę tensorflow z aliasem tf i wybrane elementy takie jak warstwy, funkcje itd.\n",
    "import tensorflow as tf\n",
    "from tensorflow.keras.models import Sequential\n",
    "from tensorflow.keras.layers import Dense"
   ]
  },
  {
   "cell_type": "code",
   "execution_count": null,
   "id": "add75cfb",
   "metadata": {},
   "outputs": [],
   "source": [
    "#przygotuj zbior - treningowy i walidacyjny/testowy\n",
    "import numpy as np\n",
    "from sklearn.model_selection import train_test_split\n",
    "from sklearn.preprocessing import StandardScaler\n",
    "from sklearn.datasets import load_diabetes\n",
    "\n",
    "\n",
    "diabetes_dataset = load_diabetes()\n",
    "\n",
    "data = diabetes_dataset['data']\n",
    "targets = diabetes_dataset['target']\n",
    "y_binary = (diabetes_dataset.target > np.mean(diabetes_dataset.target)).astype(int)  # 1 if above average, else 0\n",
    "\n",
    "X_train, X_test, y_train, y_test = train_test_split(data, y_binary, test_size=.1)\n",
    "diabetes_dataset"
   ]
  },
  {
   "cell_type": "code",
   "execution_count": null,
   "id": "ff1fbef7",
   "metadata": {},
   "outputs": [],
   "source": [
    "#Utwórz przykładowy model sieci neuronowej \n",
    "model = tf.keras.Sequential([\n",
    "  tf.keras.layers.Dense(10, activation=\"relu\", input_shape=(10,)),  # input shape required\n",
    "  tf.keras.layers.Dense(15, activation=\"relu\"),\n",
    "  tf.keras.layers.Dense(1, activation=\"sigmoid\")\n",
    "])"
   ]
  },
  {
   "cell_type": "code",
   "execution_count": null,
   "id": "8443d158",
   "metadata": {},
   "outputs": [],
   "source": [
    "#skompiluj model i wyświetl go\n",
    "model.compile(optimizer='adam', loss='binary_crossentropy', metrics=['mae','accuracy']) #algorytm uczenia - adam, funkcja straty - mse, binary_crossentropy \n"
   ]
  },
  {
   "cell_type": "code",
   "execution_count": null,
   "id": "dad7c988",
   "metadata": {},
   "outputs": [],
   "source": [
    "#naucz sieć i zapisz wyniki uczenia jako historia \n",
    "history = model.fit(X_train, y_train, epochs=100, batch_size=32, validation_split=0.2)"
   ]
  },
  {
   "cell_type": "code",
   "execution_count": null,
   "id": "8aa4d74f",
   "metadata": {},
   "outputs": [],
   "source": [
    "#Wyznaczenie metryk dla zbioru walidacyjnego\n",
    "test_loss, test_accuracy, test_mae = model.evaluate(X_test, y_test)\n",
    "print(\"Wartość funkcji straty dla zbioru testowego: \"+str(test_loss))\n",
    "print(\"Wartość dokladnosci dla zbioru testowego: \"+str(test_accuracy))\n",
    "print(\"Wartość funkcji MSE dla zbioru testowego: \"+str(test_mae))"
   ]
  },
  {
   "cell_type": "code",
   "execution_count": null,
   "id": "21ad1539",
   "metadata": {},
   "outputs": [],
   "source": []
  },
  {
   "cell_type": "code",
   "execution_count": null,
   "id": "d7b04a25",
   "metadata": {},
   "outputs": [],
   "source": [
    "#Wyświetl wykres uczenia - funkcja straty\n",
    "import matplotlib.pyplot as plt\n",
    "\n",
    "plt.plot(history.history['loss'])\n",
    "plt.plot(history.history['val_loss'])\n",
    "plt.title('Loss vs. epochs - plain model')\n",
    "plt.ylabel('Loss')\n",
    "plt.xlabel('Epoch')\n",
    "plt.legend(['Training', 'Validation'], loc='upper right')\n",
    "plt.show()"
   ]
  },
  {
   "cell_type": "code",
   "execution_count": null,
   "id": "77fdad5b",
   "metadata": {},
   "outputs": [],
   "source": []
  },
  {
   "cell_type": "code",
   "execution_count": null,
   "id": "e27892a1",
   "metadata": {},
   "outputs": [],
   "source": [
    "#Wyświetl wykres uczenia - dokładność na zbiorze treningowym\n",
    "import matplotlib.pyplot as plt\n",
    "\n",
    "plt.plot(history.history['accuracy'])\n",
    "plt.plot(history.history['val_accuracy'])\n",
    "plt.title('Loss vs. epochs - plain model')\n",
    "plt.ylabel('Loss')\n",
    "plt.xlabel('Epoch')\n",
    "plt.legend(['Training', 'Validation'], loc='upper right')\n",
    "plt.show()"
   ]
  },
  {
   "cell_type": "markdown",
   "id": "25d181a7",
   "metadata": {},
   "source": [
    "Zadania do wykonania w ramach laboratorium:\n",
    "    "
   ]
  },
  {
   "cell_type": "markdown",
   "id": "321ba9d1",
   "metadata": {},
   "source": [
    "1. Zbuduj większą sieć i wytrenuj. Porównaj wyniki z siecią podaną wyżej za pomocą wykresów (np.: różnicy). Wyświetl również wnioski jakie płyną z wykonanej analizy."
   ]
  },
  {
   "cell_type": "code",
   "execution_count": null,
   "id": "345789e5",
   "metadata": {},
   "outputs": [],
   "source": []
  },
  {
   "cell_type": "markdown",
   "id": "57708881",
   "metadata": {},
   "source": [
    " 2. Wytrenuj obydwie sieci z wykorzystaniem algorytmu adam oraz sgd. Wykonaj analizę porównawczą i wykonaj dyskusję na ich temat."
   ]
  },
  {
   "cell_type": "code",
   "execution_count": null,
   "id": "24328306",
   "metadata": {},
   "outputs": [],
   "source": []
  },
  {
   "cell_type": "markdown",
   "id": "3857ffb3",
   "metadata": {},
   "source": [
    "3. Porównaj dokładność na zbiorze walidacyjnym/testowym z algorytmem KNN."
   ]
  },
  {
   "cell_type": "code",
   "execution_count": null,
   "id": "c2455499",
   "metadata": {},
   "outputs": [],
   "source": []
  },
  {
   "cell_type": "markdown",
   "id": "b900869e",
   "metadata": {},
   "source": [
    "4. Czy większe sieci zawsze zwracają dokładniejsze wyniki? Uzasadnij pokazując wyniki uczenia dla różnych sieci i wyświetl wyniki w celu ich analizy."
   ]
  },
  {
   "cell_type": "code",
   "execution_count": null,
   "id": "9d0e8b8b",
   "metadata": {},
   "outputs": [],
   "source": []
  },
  {
   "cell_type": "code",
   "execution_count": null,
   "id": "ec2c58a3",
   "metadata": {},
   "outputs": [],
   "source": []
  }
 ],
 "metadata": {
  "kernelspec": {
   "display_name": "Python 3",
   "language": "python",
   "name": "python3"
  },
  "language_info": {
   "codemirror_mode": {
    "name": "ipython",
    "version": 3
   },
   "file_extension": ".py",
   "mimetype": "text/x-python",
   "name": "python",
   "nbconvert_exporter": "python",
   "pygments_lexer": "ipython3",
   "version": "3.12.3"
  }
 },
 "nbformat": 4,
 "nbformat_minor": 5
}
